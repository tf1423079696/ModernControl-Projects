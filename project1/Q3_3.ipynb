{
 "cells": [
  {
   "cell_type": "markdown",
   "metadata": {},
   "source": [
    "# Q3.3 Estimate system parameters from least squared method"
   ]
  },
  {
   "cell_type": "markdown",
   "metadata": {},
   "source": [
    "## Define functions"
   ]
  },
  {
   "cell_type": "code",
   "execution_count": 1,
   "metadata": {},
   "outputs": [],
   "source": [
    "import numpy as np\n",
    "from scipy.integrate import odeint"
   ]
  },
  {
   "cell_type": "code",
   "execution_count": 3,
   "metadata": {},
   "outputs": [],
   "source": [
    "m1 = 1\n",
    "m2 = 1\n",
    "L1 = 0.5\n",
    "L2 = 0.5\n",
    "g = 9.81\n",
    "\n",
    "def func(x,t,m1,m2,L1,L2,g):\n",
    "    x1,x2,x3,x4 = x\n",
    "    tau = np.array([[1], [1]])\n",
    "    M = np.mat([[m1*(L1**2) + m2*(L1**2 + 2*L1*L2*np.cos(x2) + L2**2), m2*(L1*L2*np.cos(x2) + L2**2)], [m2*(L1*L2*np.cos(x2) + L2**2), m2*(L2**2)]])\n",
    "    M_inv = np.mat([[1 / ((L1**2)*(m1 + m2*(np.sin(x2))**2)), -1*(L1*np.cos(x2) + L2) / ((L1**2)*L2*(m1 + m2*(np.sin(x2))**2))], [-1*(L1*np.cos(x2) + L2) / ((L1**2)*L2*(m1 + m2*(np.sin(x2))**2)), (m1*L1**2 + m2*(L1**2 + 2*L1*L2*np.cos(x2) + L2**2)) / (m2*(L1**2)*(L2**2)*(m1 + m2*(np.sin(x2))**2))]])\n",
    "    C = np.array([[-1*m2*L1*L2*np.sin(x2)*(2*x3*x4 + x4**2)], [m2*L1*L2*(x3**2)*np.sin(x2)]])\n",
    "    G = np.array([[(m1+m2)*L1*g*np.cos(x1) + m2*g*L2*np.cos(x1 + x2)], [m2*g*L2*np.cos(x1 + x2)]])\n",
    "    x1_dot = x3\n",
    "    x2_dot = x4\n",
    "    x34_dot = np.dot(M.I, (tau - C - G))\n",
    "    x3_dot = x34_dot[0,0]\n",
    "    x4_dot = x34_dot[1,0]\n",
    "    return [x1_dot, x2_dot, x3_dot, x4_dot]\n",
    "\n",
    "t_range = 20 # Time length is 20s\n",
    "dt = 0.001 # dt is 0.001s\n",
    "times = np.arange(0,t_range,dt)"
   ]
  },
  {
   "cell_type": "code",
   "execution_count": 4,
   "metadata": {},
   "outputs": [],
   "source": [
    "# g(θ) consists of theta1_dot2func and theta2_dot2func.\n",
    "def theta1_dot2func(para, x1, x2, x3, x4, tau1, tau2):\n",
    "    m1_pred, m2_pred, L1_pred, L2_pred = para\n",
    "    M11_inv = 1 / ((L1_pred**2)*(m1_pred + m2_pred*(np.sin(x2))**2))\n",
    "    M12_inv = -1*(L1_pred*np.cos(x2) + L2_pred) / ((L1_pred**2)*L2_pred*(m1_pred + m2_pred*(np.sin(x2))**2))\n",
    "    C1 = -m2_pred*L1_pred*L2_pred*np.sin(x2)*(2*x3*x4 + x4**2)\n",
    "    G1 = (m1_pred+m2_pred)*L1_pred*g*np.cos(x1) + m2_pred*g*L2_pred*np.cos(x1 + x2)\n",
    "    C2 = m2_pred*L1_pred*L2_pred*(x3**2)*np.sin(x2)\n",
    "    G2 = m2_pred*g*L2_pred*np.cos(x1 + x2)\n",
    "    return M11_inv*(tau1 - C1 - G1) + M12_inv*(tau2 - C2 - G2)\n",
    "\n",
    "def theta2_dot2func(para, x1, x2, x3, x4, tau1, tau2):\n",
    "    m1_pred, m2_pred, L1_pred, L2_pred = para\n",
    "    M21_inv = -1*(L1_pred*np.cos(x2) + L2_pred) / ((L1_pred**2)*L2_pred*(m1_pred + m2_pred*(np.sin(x2))**2))\n",
    "    M22_inv = (m1_pred*L1_pred**2 + m2_pred*(L1_pred**2 + 2*L1_pred*L2_pred*np.cos(x2) + L2_pred**2)) / (m2_pred*(L1_pred**2)*(L2_pred**2)*(m1_pred + m2_pred*(np.sin(x2))**2))\n",
    "    C1 = -m2_pred*L1_pred*L2_pred*np.sin(x2)*(2*x3*x4 + x4**2)\n",
    "    G1 = (m1_pred+m2_pred)*L1_pred*g*np.cos(x1) + m2_pred*g*L2_pred*np.cos(x1 + x2)\n",
    "    C2 = m2_pred*L1_pred*L2_pred*(x3**2)*np.sin(x2)\n",
    "    G2 = m2_pred*g*L2_pred*np.cos(x1 + x2)\n",
    "    return M21_inv*(tau1 - C1 - G1) + M22_inv*(tau2 - C2 - G2)\n",
    "\n",
    "# error used by leastsq, while LScost used by minimize\n",
    "def error(para, x1, x2, x3, x4, tau1, tau2, theta1_dot2, theta2_dot2):\n",
    "    return np.sqrt((theta1_dot2 - theta1_dot2func(para, x1, x2, x3, x4, tau1, tau2))**2 + (theta2_dot2 - theta2_dot2func(para, x1, x2, x3, x4, tau1, tau2))**2)"
   ]
  },
  {
   "cell_type": "markdown",
   "metadata": {},
   "source": [
    "## θ2_init = pi/2"
   ]
  },
  {
   "cell_type": "code",
   "execution_count": 5,
   "metadata": {},
   "outputs": [],
   "source": [
    "#θ2_init = pi/2\n",
    "input = np.array([0,np.pi/2])\n",
    "x_init = np.hstack((input,np.array([0,0])))\n",
    "x_traj = odeint(func, x_init, times, args=(m1,m2,L1,L2,g)) # Compute θ1 θ2 θ1_dot θ2_dot"
   ]
  },
  {
   "cell_type": "code",
   "execution_count": 6,
   "metadata": {},
   "outputs": [],
   "source": [
    "import random\n",
    "length = np.size(x_traj,0)\n",
    "theta1_dot_dot = np.zeros(length) \n",
    "theta2_dot_dot = np.zeros(length)\n",
    "for i in range(length):\n",
    "    M_pred = np.mat([[m1*(L1**2) + m2*(L1**2 + 2*L1*L2*np.cos(x_traj[i,1]) + L2**2), m2*(L1*L2*np.cos(x_traj[i,1]) + L2**2)], [m2*(L1*L2*np.cos(x_traj[i,1]) + L2**2), m2*(L2**2)]])\n",
    "    C_pred = np.mat([[-1*m2*L1*L2*np.sin(x_traj[i,1])*(2*x_traj[i,2]*x_traj[i,3] + x_traj[i,3]**2)], [m2*L1*L2*(x_traj[i,2]**2)*np.sin(x_traj[i,1])]])\n",
    "    G_pred = np.mat([[(m1+m2)*L1*g*np.cos(x_traj[i,0]) + m2*g*L2*np.cos(x_traj[i,0] + x_traj[i,1])], [m2*g*L2*np.cos(x_traj[i,0] + x_traj[i,1])]])\n",
    "    tau = np.mat([[1], [1]])\n",
    "    theta12_dot2 = np.dot(M_pred.I, (tau - C_pred - G_pred)) # Compute θ1_dot_dot and θ2_dot_dot\n",
    "    theta1_dot_dot[i] = theta12_dot2[0,0] # + random.uniform(-1,1) # Obtain mearsurement data of θ1_dot_dot by adding a noise\n",
    "    theta2_dot_dot[i] = theta12_dot2[1,0] # + random.uniform(-1,1) # Obtain mearsurement data of θ2_dot_dot by adding a noise"
   ]
  },
  {
   "cell_type": "code",
   "execution_count": 11,
   "metadata": {},
   "outputs": [],
   "source": [
    "from scipy.optimize import least_squares, leastsq\n",
    "\n",
    "tau1 = np.ones(length) # τ1=τ2=0 when free falling\n",
    "tau2 = np.ones(length)\n",
    "para0 = [10, 10, 5, 10] # set initial values of parameters when theta2_init = pi/2\n",
    "#para = least_squares(error, para0, args=(x_traj[:length,0], x_traj[:length,1], x_traj[:length,2], x_traj[:length,3], tau1, tau2, theta1_dot_dot, theta2_dot_dot))\n",
    "para = leastsq(error, para0, args=(x_traj[:length,0], x_traj[:length,1], x_traj[:length,2], x_traj[:length,3], tau1, tau2, theta1_dot_dot, theta2_dot_dot))"
   ]
  },
  {
   "cell_type": "code",
   "execution_count": 12,
   "metadata": {},
   "outputs": [
    {
     "name": "stdout",
     "output_type": "stream",
     "text": [
      "theta2_init =  1.5707963267948966  t_length =  20\n",
      "m1 =  0.9999997990181543  m2 =  0.9999998024549246  L1 =  0.500000004408748  L2 =  0.5000000114747059\n"
     ]
    }
   ],
   "source": [
    "m1_pred,m2_pred,L1_pred,L2_pred = para[0]\n",
    "print(\"theta2_init = \",input[1], \" t_length = \",t_range)\n",
    "print(\"m1 = \",m1_pred,\" m2 = \",m2_pred,\" L1 = \",L1_pred,\" L2 = \",L2_pred)"
   ]
  },
  {
   "cell_type": "markdown",
   "metadata": {},
   "source": [
    "### Try different initial values of m1, m2, L1, L2"
   ]
  },
  {
   "cell_type": "code",
   "execution_count": 16,
   "metadata": {},
   "outputs": [
    {
     "name": "stdout",
     "output_type": "stream",
     "text": [
      "m1 =  0.999999929174924  m2 =  0.9999999267874237  L1 =  0.4999999947695729  L2 =  0.4999999975697994\n"
     ]
    }
   ],
   "source": [
    "#θ2_initial = pi/2\n",
    "para0 = [1.5, 1.5, 1, 1] # set initial values of parameters\n",
    "para = leastsq(error, para0, args=(x_traj[:length,0], x_traj[:length,1], x_traj[:length,2], x_traj[:length,3], tau1, tau2, theta1_dot_dot, theta2_dot_dot))\n",
    "m1_pred,m2_pred,L1_pred,L2_pred = para[0]\n",
    "print(\"m1 = \",m1_pred,\" m2 = \",m2_pred,\" L1 = \",L1_pred,\" L2 = \",L2_pred)"
   ]
  },
  {
   "cell_type": "code",
   "execution_count": 17,
   "metadata": {},
   "outputs": [
    {
     "name": "stdout",
     "output_type": "stream",
     "text": [
      "m1 =  1139.410455694629  m2 =  1111.142431374075  L1 =  0.4882703485458744  L2 =  0.5001606519247088\n"
     ]
    }
   ],
   "source": [
    "#θ2_initial = pi/2\n",
    "para0 = [3, 400, 2, 14] # set initial values of parameters\n",
    "para = leastsq(error, para0, args=(x_traj[:length,0], x_traj[:length,1], x_traj[:length,2], x_traj[:length,3], tau1, tau2, theta1_dot_dot, theta2_dot_dot))\n",
    "m1_pred,m2_pred,L1_pred,L2_pred = para[0]\n",
    "print(\"m1 = \",m1_pred,\" m2 = \",m2_pred,\" L1 = \",L1_pred,\" L2 = \",L2_pred)"
   ]
  },
  {
   "cell_type": "code",
   "execution_count": 18,
   "metadata": {},
   "outputs": [
    {
     "name": "stdout",
     "output_type": "stream",
     "text": [
      "m1 =  0.9999998296260388  m2 =  0.9999998283090618  L1 =  0.5000000079582889  L2 =  0.500000013111332\n"
     ]
    }
   ],
   "source": [
    "#θ2_initial = pi/2\n",
    "para0 = [660, 6, 3, 6] # set initial values of parameters\n",
    "para = leastsq(error, para0, args=(x_traj[:length,0], x_traj[:length,1], x_traj[:length,2], x_traj[:length,3], tau1, tau2, theta1_dot_dot, theta2_dot_dot))\n",
    "m1_pred,m2_pred,L1_pred,L2_pred = para[0]\n",
    "print(\"m1 = \",m1_pred,\" m2 = \",m2_pred,\" L1 = \",L1_pred,\" L2 = \",L2_pred)"
   ]
  },
  {
   "cell_type": "markdown",
   "metadata": {},
   "source": [
    "## θ2_init = -pi/2"
   ]
  },
  {
   "cell_type": "code",
   "execution_count": 47,
   "metadata": {},
   "outputs": [],
   "source": [
    "#θ2_init = -pi/2\n",
    "input = np.array([0,-np.pi/2])\n",
    "x_init = np.hstack((input,np.array([0,0])))\n",
    "x_traj = odeint(func, x_init, times, args=(m1,m2,L1,L2,g)) # Compute θ1 θ2 θ1_dot θ2_dot"
   ]
  },
  {
   "cell_type": "code",
   "execution_count": 48,
   "metadata": {},
   "outputs": [],
   "source": [
    "import random\n",
    "length = np.size(x_traj,0)\n",
    "theta1_dot_dot = np.zeros(length) \n",
    "theta2_dot_dot = np.zeros(length)\n",
    "for i in range(length):\n",
    "    M_pred = np.mat([[m1*(L1**2) + m2*(L1**2 + 2*L1*L2*np.cos(x_traj[i,1]) + L2**2), m2*(L1*L2*np.cos(x_traj[i,1]) + L2**2)], [m2*(L1*L2*np.cos(x_traj[i,1]) + L2**2), m2*(L2**2)]])\n",
    "    C_pred = np.mat([[-1*m2*L1*L2*np.sin(x_traj[i,1])*(2*x_traj[i,2]*x_traj[i,3] + x_traj[i,3]**2)], [m2*L1*L2*(x_traj[i,2]**2)*np.sin(x_traj[i,1])]])\n",
    "    G_pred = np.mat([[(m1+m2)*L1*g*np.cos(x_traj[i,0]) + m2*g*L2*np.cos(x_traj[i,0] + x_traj[i,1])], [m2*g*L2*np.cos(x_traj[i,0] + x_traj[i,1])]])\n",
    "    tau = np.mat([[0], [0]])\n",
    "    theta12_dot2 = np.dot(M_pred.I, (tau - C_pred - G_pred)) # Compute θ1_dot_dot and θ2_dot_dot\n",
    "    theta1_dot_dot[i] = theta12_dot2[0,0] + random.uniform(-1,1) # Obtain mearsurement data of θ1_dot_dot by adding a noise\n",
    "    theta2_dot_dot[i] = theta12_dot2[1,0] + random.uniform(-1,1) # Obtain mearsurement data of θ2_dot_dot by adding a noise"
   ]
  },
  {
   "cell_type": "code",
   "execution_count": 49,
   "metadata": {},
   "outputs": [
    {
     "name": "stdout",
     "output_type": "stream",
     "text": [
      "m1 =  2.4655116757026905  m2 =  2.4655642163858538  L1 =  0.4998642732942489  L2 =  0.4998961214470978\n"
     ]
    }
   ],
   "source": [
    "from scipy.optimize import leastsq, minimize\n",
    "\n",
    "# attempt para0 = [9.5, 9.5, 2, 2]\n",
    "tau1 = np.zeros(length) # τ1=τ2=0 when free falling\n",
    "tau2 = np.zeros(length)\n",
    "para0 = [9.5, 9.5, 2, 2] # set initial values of parameters\n",
    "para = leastsq(error, para0, args=(x_traj[:length,0], x_traj[:length,1], x_traj[:length,2], x_traj[:length,3], tau1, tau2, theta1_dot_dot, theta2_dot_dot))\n",
    "#para = least_squares(error, para0, args=(x_traj[:length,0], x_traj[:length,1], x_traj[:length,2], x_traj[:length,3], tau1, tau2, theta1_dot_dot, theta2_dot_dot))\n",
    "m1_pred,m2_pred,L1_pred,L2_pred = para[0]\n",
    "print(\"m1 = \",m1_pred,\" m2 = \",m2_pred,\" L1 = \",L1_pred,\" L2 = \",L2_pred)"
   ]
  },
  {
   "cell_type": "code",
   "execution_count": 50,
   "metadata": {},
   "outputs": [],
   "source": [
    "from scipy.optimize import least_squares, leastsq, minimize\n",
    "\n",
    "tau1 = np.zeros(length) # τ1=τ2=0 when free falling\n",
    "tau2 = np.zeros(length)\n",
    "para0 = [4.5, 4.5, 2.5, 2] # set initial values of parameters\n",
    "para = leastsq(error, para0, args=(x_traj[:length,0], x_traj[:length,1], x_traj[:length,2], x_traj[:length,3], tau1, tau2, theta1_dot_dot, theta2_dot_dot))\n",
    "#para = least_squares(error, para0, args=(x_traj[:length,0], x_traj[:length,1], x_traj[:length,2], x_traj[:length,3], tau1, tau2, theta1_dot_dot, theta2_dot_dot))"
   ]
  },
  {
   "cell_type": "code",
   "execution_count": 51,
   "metadata": {},
   "outputs": [
    {
     "name": "stdout",
     "output_type": "stream",
     "text": [
      "theta2_init =  -1.5707963267948966  t_length =  20\n",
      "m1 =  1.2502348597552948  m2 =  1.2502621311734203  L1 =  0.49986482433116747  L2 =  0.4998965898251322\n"
     ]
    }
   ],
   "source": [
    "m1_pred,m2_pred,L1_pred,L2_pred = para[0]\n",
    "print(\"theta2_init = \",input[1], \" t_length = \",t_range)\n",
    "print(\"m1 = \",m1_pred,\" m2 = \",m2_pred,\" L1 = \",L1_pred,\" L2 = \",L2_pred)"
   ]
  },
  {
   "cell_type": "markdown",
   "metadata": {},
   "source": [
    "### Try different initial values of m1, m2, L1, L2"
   ]
  },
  {
   "cell_type": "code",
   "execution_count": 406,
   "metadata": {},
   "outputs": [
    {
     "name": "stdout",
     "output_type": "stream",
     "text": [
      "m1 =  0.1620929115615569  m2 =  0.16207989887346652  L1 =  0.4999876216587387  L2 =  0.5000284521766708\n"
     ]
    }
   ],
   "source": [
    "#θ2_initial = -pi/2\n",
    "para0 = [1.5, 1.5, 1, 1] # set initial values of parameters\n",
    "para = leastsq(error, para0, args=(x_traj[:length,0], x_traj[:length,1], x_traj[:length,2], x_traj[:length,3], tau1, tau2, theta1_dot_dot, theta2_dot_dot))\n",
    "m1_pred,m2_pred,L1_pred,L2_pred = para[0]\n",
    "print(\"m1 = \",m1_pred,\" m2 = \",m2_pred,\" L1 = \",L1_pred,\" L2 = \",L2_pred)"
   ]
  },
  {
   "cell_type": "code",
   "execution_count": 409,
   "metadata": {},
   "outputs": [
    {
     "name": "stdout",
     "output_type": "stream",
     "text": [
      "m1 =  2063.8466822421424  m2 =  2063.881803042769  L1 =  0.5000196691901436  L2 =  0.500082604380764\n"
     ]
    }
   ],
   "source": [
    "#θ2_initial = -pi/2\n",
    "para0 = [3, 400, 2, 14] # set initial values of parameters\n",
    "para = leastsq(error, para0, args=(x_traj[:length,0], x_traj[:length,1], x_traj[:length,2], x_traj[:length,3], tau1, tau2, theta1_dot_dot, theta2_dot_dot))\n",
    "m1_pred,m2_pred,L1_pred,L2_pred = para[0]\n",
    "print(\"m1 = \",m1_pred,\" m2 = \",m2_pred,\" L1 = \",L1_pred,\" L2 = \",L2_pred)"
   ]
  },
  {
   "cell_type": "code",
   "execution_count": 411,
   "metadata": {},
   "outputs": [
    {
     "name": "stdout",
     "output_type": "stream",
     "text": [
      "m1 =  8.932335200955812  m2 =  8.931629467083065  L1 =  0.4999877889082277  L2 =  0.5000288490810626\n"
     ]
    }
   ],
   "source": [
    "#θ2_initial = -pi/2\n",
    "para0 = [60, 6, 3, 6] # set initial values of parameters\n",
    "para = leastsq(error, para0, args=(x_traj[:length,0], x_traj[:length,1], x_traj[:length,2], x_traj[:length,3], tau1, tau2, theta1_dot_dot, theta2_dot_dot))\n",
    "m1_pred,m2_pred,L1_pred,L2_pred = para[0]\n",
    "print(\"m1 = \",m1_pred,\" m2 = \",m2_pred,\" L1 = \",L1_pred,\" L2 = \",L2_pred)"
   ]
  }
 ],
 "metadata": {
  "interpreter": {
   "hash": "3b1d37b2f9901c89ce96f551a9fd1f7e87f217e85d5b198c8852fde16b466ee7"
  },
  "kernelspec": {
   "display_name": "Python 3.9.7 64-bit (system)",
   "name": "python3"
  },
  "language_info": {
   "codemirror_mode": {
    "name": "ipython",
    "version": 3
   },
   "file_extension": ".py",
   "mimetype": "text/x-python",
   "name": "python",
   "nbconvert_exporter": "python",
   "pygments_lexer": "ipython3",
   "version": "3.9.7"
  },
  "orig_nbformat": 4
 },
 "nbformat": 4,
 "nbformat_minor": 2
}
