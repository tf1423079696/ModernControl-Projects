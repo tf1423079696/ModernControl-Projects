{
 "cells": [
  {
   "cell_type": "markdown",
   "metadata": {},
   "source": [
    "# ME424 Modern Control and Estimation\n",
    "## Tutorial #3 Solve Nonlinear Least Square Problem"
   ]
  },
  {
   "cell_type": "code",
   "execution_count": 2,
   "metadata": {
    "cell_id": "00000-40c17059-d48c-4a1c-9199-bcc37da3ee0e",
    "deepnote_cell_type": "code",
    "deepnote_to_be_reexecuted": false,
    "execution_millis": 1449,
    "execution_start": 1632888260962,
    "source_hash": "809c1d86"
   },
   "outputs": [],
   "source": [
    "# import related library\n",
    "from numpy import random\n",
    "from scipy import optimize\n",
    "\n",
    "import numpy as np\n",
    "import matplotlib.pyplot as plt\n"
   ]
  },
  {
   "cell_type": "code",
   "execution_count": 3,
   "metadata": {
    "cell_id": "00001-3cf8b73f-87d6-4f05-87bd-223743288011",
    "deepnote_cell_type": "code",
    "deepnote_to_be_reexecuted": false,
    "execution_millis": 0,
    "execution_start": 1632888522009,
    "source_hash": "a3e330bb"
   },
   "outputs": [],
   "source": [
    "# this function should return the cost for any given value of theta\n",
    "def nonlinearLScost(theta, b, y):\n",
    "    J = 0\n",
    "    for i in range(np.size(b, 1)):\n",
    "        \n",
    "        # np.linalg.norm(): axis=0 for column vector and axis=1 for row vector\n",
    "        J+= np.square(y[i] - np.linalg.norm(theta - b[:, i], axis=0))        \n",
    "    \n",
    "    return J.item(0)\n"
   ]
  },
  {
   "cell_type": "code",
   "execution_count": 4,
   "metadata": {
    "cell_id": "00002-d265e960-d7a0-4e1b-86eb-3ee1ed4b3142",
    "deepnote_cell_type": "code",
    "deepnote_to_be_reexecuted": false,
    "execution_millis": 334,
    "execution_start": 1632888315002,
    "output_cleared": false,
    "source_hash": "690f9d7d"
   },
   "outputs": [
    {
     "data": {
      "text/plain": [
       "[<matplotlib.lines.Line2D at 0x295a64bdee0>]"
      ]
     },
     "execution_count": 4,
     "metadata": {},
     "output_type": "execute_result"
    },
    {
     "data": {
      "image/png": "[encoded data removed]",
      "text/plain": [
       "<Figure size 432x288 with 1 Axes>"
      ]
     },
     "metadata": {
      "needs_background": "light"
     },
     "output_type": "display_data"
    }
   ],
   "source": [
    "# first define known beacon positions\n",
    "# each column represents one beacon position, e.g.: ith column b[:,i]:\n",
    "# b[1,i] is the x-coordinate of the ith beacon, while b(2,i) is the y-coordinate of the ith beacon\n",
    "b = np.mat([[1, -2, -4, 5, 10,  -7,  8,  9, -7],\n",
    "            [3, -2,  3, 6,  1, 5.5, 10, -6, -7]])\n",
    "\n",
    "# for testing purpose, we assume we know  the true location\n",
    "# this is \\theta to be estimated\n",
    "truePose = np.transpose(np.mat([4, 0]))\n",
    "\n",
    "# plot beacon and true target location\n",
    "for i in range(np.size(b, 1)):\n",
    "    plt.plot(b[0, i], b[1, i], 'o', ms=10)\n",
    "\n",
    "plt.plot(truePose[0], truePose[0], 'b*', ms=20)\n"
   ]
  },
  {
   "cell_type": "code",
   "execution_count": 5,
   "metadata": {
    "cell_id": "00003-841567dd-ff5d-48b6-8124-d915554cfef3",
    "deepnote_cell_type": "code",
    "deepnote_to_be_reexecuted": false,
    "execution_millis": 6,
    "execution_start": 1632888601661,
    "source_hash": "35689955"
   },
   "outputs": [],
   "source": [
    "# for testing purpose, we generate measurement data\n",
    "# in reality this data is given by your beacon sensors\n",
    "noise = random.random(size=(np.size(b, 1), 1))\n",
    "y = np.zeros(len(noise))\n",
    "for i in range(len(noise)):\n",
    "    y[i] = np.linalg.norm(truePose-b[:, i], axis=0) + noise[i]\n",
    "\n",
    "# \"theta\" is the initial value\n",
    "theta0 = np.mat('0;0')\n",
    "# automatic iteration to convergence\n",
    "#thetahatLS, resnorm = optimize.leastsq(nonlinearLScost, theta0, args=(b, y))\n",
    "\n",
    "res = optimize.minimize(nonlinearLScost,theta0,args=(b,y))\n",
    "thetahatLS = res.x"
   ]
  },
  {
   "cell_type": "code",
   "execution_count": null,
   "metadata": {
    "cell_id": "00004-2feea5fc-fb6a-4d64-a2d3-7aa8afc61677",
    "deepnote_cell_type": "code",
    "deepnote_to_be_reexecuted": false,
    "execution_millis": 5,
    "execution_start": 1632888546335,
    "source_hash": "e2ce9a6d",
    "tags": []
   },
   "outputs": [
    {
     "data": {
      "text/plain": [
       "      fun: 59.5203095981482\n",
       " hess_inv: array([[0.06893479, 0.        ],\n",
       "       [0.        , 1.        ]])\n",
       "      jac: array([1.90734863e-06, 0.00000000e+00])\n",
       "  message: 'Optimization terminated successfully.'\n",
       "     nfev: 24\n",
       "      nit: 7\n",
       "     njev: 8\n",
       "   status: 0\n",
       "  success: True\n",
       "        x: array([2.72488623, 0.        ])"
      ]
     },
     "execution_count": 5,
     "metadata": {},
     "output_type": "execute_result"
    }
   ],
   "source": [
    "res"
   ]
  },
  {
   "cell_type": "code",
   "execution_count": null,
   "metadata": {
    "cell_id": "00004-b1de36c3-6771-437b-a1a2-f1434e47b071",
    "deepnote_cell_type": "code",
    "deepnote_to_be_reexecuted": false,
    "execution_millis": 442,
    "execution_start": 1632888605688,
    "output_cleared": false,
    "source_hash": "93f81ce2"
   },
   "outputs": [
    {
     "data": {
      "text/plain": [
       "[<matplotlib.lines.Line2D at 0x7f96da0f1790>]"
      ]
     },
     "execution_count": 10,
     "metadata": {},
     "output_type": "execute_result"
    },
    {
     "data": {
      "image/png": "[encoded data removed]",
      "text/plain": [
       "<Figure size 432x288 with 1 Axes>"
      ]
     },
     "metadata": {
      "image/png": {
       "height": 248,
       "width": 380
      },
      "needs_background": "light"
     },
     "output_type": "display_data"
    }
   ],
   "source": [
    "# plot beacon and true target location\n",
    "for i in range(np.size(b, 1)):\n",
    "    plt.plot(b[0, i], b[1, i], 'o', ms = 10)\n",
    "\n",
    "plt.plot(truePose[0],truePose[0],'b*',ms = 20)\n",
    "\n",
    "# plot estimated location\n",
    "plt.plot(thetahatLS[0],thetahatLS[1],'rd', ms=20)"
   ]
  }
 ],
 "metadata": {
  "deepnote": {},
  "deepnote_execution_queue": [],
  "deepnote_notebook_id": "4e346770-1d24-43c3-a612-dd86d8061f46",
  "interpreter": {
   "hash": "3b1d37b2f9901c89ce96f551a9fd1f7e87f217e85d5b198c8852fde16b466ee7"
  },
  "kernelspec": {
   "display_name": "Python 3.9.7 64-bit (system)",
   "name": "python3"
  },
  "language_info": {
   "codemirror_mode": {
    "name": "ipython",
    "version": 3
   },
   "file_extension": ".py",
   "mimetype": "text/x-python",
   "name": "python",
   "nbconvert_exporter": "python",
   "pygments_lexer": "ipython3",
   "version": "3.9.7"
  },
  "orig_nbformat": 4
 },
 "nbformat": 4,
 "nbformat_minor": 2
}
